{
 "cells": [
  {
   "cell_type": "code",
   "execution_count": 1,
   "id": "c111a0df",
   "metadata": {},
   "outputs": [
    {
     "name": "stdout",
     "output_type": "stream",
     "text": [
      "==================================================\n",
      "FILE ANALYSIS SUMMARY\n",
      "==================================================\n",
      "📁 File: MTA_Permanent_Art_Catalog__Beginning_1980_20250829.csv\n",
      "📊 Type: CSV\n",
      "💾 Size: 523.4 KB\n",
      "📈 Shape: (381, 9)\n",
      "🔢 Columns: 9\n",
      "📋 Rows: 381\n",
      "==================================================\n"
     ]
    }
   ],
   "source": [
    "import sys\n",
    "sys.path.append('../../shared')\n",
    "from file_analyzer import FileAnalyzer\n",
    "\n",
    "# Analyze your file\n",
    "analyzer = FileAnalyzer('../../../data/MTA_Permanent_Art_Catalog__Beginning_1980_20250829.csv')\n",
    "analyzer.print_summary()\n",
    "\n",
    "# Get the DataFrame\n",
    "df = analyzer.get_dataframe()"
   ]
  }
 ],
 "metadata": {
  "kernelspec": {
   "display_name": "base",
   "language": "python",
   "name": "python3"
  },
  "language_info": {
   "codemirror_mode": {
    "name": "ipython",
    "version": 3
   },
   "file_extension": ".py",
   "mimetype": "text/x-python",
   "name": "python",
   "nbconvert_exporter": "python",
   "pygments_lexer": "ipython3",
   "version": "3.13.5"
  }
 },
 "nbformat": 4,
 "nbformat_minor": 5
}
