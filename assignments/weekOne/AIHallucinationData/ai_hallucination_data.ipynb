{
 "cells": [
  {
   "cell_type": "code",
   "execution_count": 1,
   "id": "70a1045d-c61f-4637-993a-fb66553a676c",
   "metadata": {},
   "outputs": [
    {
     "name": "stdout",
     "output_type": "stream",
     "text": [
      "==================================================\n",
      "FILE ANALYSIS SUMMARY\n",
      "==================================================\n",
      "📁 File: Charlotin-hallucination_cases.csv\n",
      "📊 Type: CSV\n",
      "💾 Size: 293.8 KB\n",
      "📈 Shape: (309, 14)\n",
      "🔢 Columns: 14\n",
      "📋 Rows: 309\n",
      "==================================================\n"
     ]
    }
   ],
   "source": [
    "import sys\n",
    "sys.path.append('../../shared')\n",
    "from file_analyzer import FileAnalyzer\n",
    "\n",
    "# Analyze your file\n",
    "analyzer = FileAnalyzer('./Charlotin-hallucination_cases.csv')\n",
    "analyzer.print_summary()\n",
    "\n",
    "# Get the DataFrame\n",
    "df = analyzer.get_dataframe()"
   ]
  }
 ],
 "metadata": {
  "kernelspec": {
   "display_name": "base",
   "language": "python",
   "name": "python3"
  },
  "language_info": {
   "codemirror_mode": {
    "name": "ipython",
    "version": 3
   },
   "file_extension": ".py",
   "mimetype": "text/x-python",
   "name": "python",
   "nbconvert_exporter": "python",
   "pygments_lexer": "ipython3",
   "version": "3.13.5"
  }
 },
 "nbformat": 4,
 "nbformat_minor": 5
}
