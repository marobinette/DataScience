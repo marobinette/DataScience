{
 "cells": [
  {
   "cell_type": "code",
   "execution_count": 1,
   "id": "0794bbdd",
   "metadata": {},
   "outputs": [
    {
     "name": "stdout",
     "output_type": "stream",
     "text": [
      "==================================================\n",
      "FILE ANALYSIS SUMMARY\n",
      "==================================================\n",
      "📁 File: Portugal_dwrap__mean_2025_09_01_08_40_50_868068_data.csv\n",
      "📊 Type: CSV\n",
      "💾 Size: 2.8 KB\n",
      "📈 Shape: (72, 4)\n",
      "🔢 Columns: 4\n",
      "📋 Rows: 72\n",
      "==================================================\n"
     ]
    }
   ],
   "source": [
    "import sys\n",
    "sys.path.append('../../shared')\n",
    "from file_analyzer import FileAnalyzer\n",
    "\n",
    "# Analyze your file\n",
    "analyzer = FileAnalyzer('./Portugal_dwrap__mean_2025_09_01_08_40_50_868068_data.csv')\n",
    "analyzer.print_summary()\n",
    "\n",
    "# Get the DataFrame\n",
    "df = analyzer.get_dataframe()"
   ]
  },
  {
   "cell_type": "code",
   "execution_count": 2,
   "id": "359afc1c",
   "metadata": {},
   "outputs": [
    {
     "name": "stdout",
     "output_type": "stream",
     "text": [
      "==================================================\n",
      "FILE ANALYSIS SUMMARY\n",
      "==================================================\n",
      "📁 File: Afghanistan_dwrap__mean_2025_08_31_06_44_53_752427_data.csv\n",
      "📊 Type: CSV\n",
      "💾 Size: 3.3 KB\n",
      "📈 Shape: (72, 4)\n",
      "🔢 Columns: 4\n",
      "📋 Rows: 72\n",
      "==================================================\n"
     ]
    }
   ],
   "source": [
    "# Analyze your file\n",
    "analyzer = FileAnalyzer('Afghanistan_dwrap__mean_2025_08_31_06_44_53_752427_data.csv')\n",
    "analyzer.print_summary()\n",
    "\n",
    "# Get the DataFrame\n",
    "df = analyzer.get_dataframe()"
   ]
  },
  {
   "cell_type": "code",
   "execution_count": 3,
   "id": "2429a990",
   "metadata": {},
   "outputs": [
    {
     "name": "stdout",
     "output_type": "stream",
     "text": [
      "==================================================\n",
      "FILE ANALYSIS SUMMARY\n",
      "==================================================\n",
      "📁 File: Canada_dwrap__mean_2025_09_01_08_42_17_649223_data.csv\n",
      "📊 Type: CSV\n",
      "💾 Size: 3.1 KB\n",
      "📈 Shape: (72, 4)\n",
      "🔢 Columns: 4\n",
      "📋 Rows: 72\n",
      "==================================================\n"
     ]
    }
   ],
   "source": [
    "\n",
    "analyzer = FileAnalyzer('Canada_dwrap__mean_2025_09_01_08_42_17_649223_data.csv')\n",
    "analyzer.print_summary()\n",
    "\n",
    "# Get the DataFrame\n",
    "df = analyzer.get_dataframe()"
   ]
  },
  {
   "cell_type": "code",
   "execution_count": 6,
   "id": "48853644",
   "metadata": {},
   "outputs": [
    {
     "name": "stdout",
     "output_type": "stream",
     "text": [
      "==================================================\n",
      "FILE ANALYSIS SUMMARY\n",
      "==================================================\n",
      "📁 File: world_by_region_and_income__2025_09_01_10_35_03_540102_data.csv\n",
      "📊 Type: CSV\n",
      "💾 Size: 12.8 KB\n",
      "📈 Shape: (207, 5)\n",
      "🔢 Columns: 5\n",
      "📋 Rows: 207\n",
      "==================================================\n"
     ]
    }
   ],
   "source": [
    "analyzer = FileAnalyzer('world_by_region_and_income__2025_09_01_10_35_03_540102_data.csv')\n",
    "analyzer.print_summary()\n",
    "\n",
    "# Get the DataFrame\n",
    "df = analyzer.get_dataframe()"
   ]
  }
 ],
 "metadata": {
  "kernelspec": {
   "display_name": "base",
   "language": "python",
   "name": "python3"
  },
  "language_info": {
   "codemirror_mode": {
    "name": "ipython",
    "version": 3
   },
   "file_extension": ".py",
   "mimetype": "text/x-python",
   "name": "python",
   "nbconvert_exporter": "python",
   "pygments_lexer": "ipython3",
   "version": "3.13.5"
  }
 },
 "nbformat": 4,
 "nbformat_minor": 5
}
